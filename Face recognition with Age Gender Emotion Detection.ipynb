{
 "cells": [
  {
   "cell_type": "code",
   "execution_count": 1,
   "metadata": {},
   "outputs": [],
   "source": [
    "import face_recognition\n",
    "import numpy as np\n",
    "import dlib\n",
    "from imutils import face_utils\n",
    "import os\n",
    "import cv2\n",
    "\n",
    "os.environ[\"OPENCV_VIDEOIO_PRIORITY_MSMF\"] = \"0\""
   ]
  },
  {
   "cell_type": "code",
   "execution_count": 2,
   "metadata": {},
   "outputs": [
    {
     "name": "stderr",
     "output_type": "stream",
     "text": [
      "Using TensorFlow backend.\n"
     ]
    }
   ],
   "source": [
    "from keras.models import load_model\n",
    "\n",
    "multi_model = load_model(\"weights.28-3.73.hdf5\")\n",
    "emodel=load_model(\"model_v6_23.hdf5\")"
   ]
  },
  {
   "cell_type": "code",
   "execution_count": 66,
   "metadata": {},
   "outputs": [],
   "source": [
    "Known_face_encodings = []\n",
    "known_face_names = []\n",
    "path=\"./facedataset/\"\n",
    "for image_db in os.listdir(path):\n",
    "    Known_face_encodings.append(face_recognition.face_encodings(face_recognition.load_image_file(path+image_db))[0])\n",
    "    known_face_names.append(image_db.split('.')[0])"
   ]
  },
  {
   "cell_type": "code",
   "execution_count": 93,
   "metadata": {},
   "outputs": [],
   "source": [
    "emotion_dict= {0:'Angry',5:'Neutral', 4:'Neutral',1:'Neutral',6:'Surprise',2:'Neutral',3:'Happy'}\n",
    "detect = dlib.get_frontal_face_detector()\n",
    "predict = dlib.shape_predictor(\"shape_predictor_68_face_landmarks.dat\")\n",
    "cap = cv2.VideoCapture('howdy.mp4')\n",
    "writer = cv2.VideoWriter(\"o.avi\",cv2.VideoWriter_fourcc(*\"MJPG\"), 30,(int(cap.get(3)),int(cap.get(4)))) \n",
    "\n",
    "while (cap.isOpened()):\n",
    "    \n",
    "    ret, frame=cap.read()\n",
    "    if not ret:\n",
    "        break  \n",
    "    gray=cv2.cvtColor(frame,cv2.COLOR_BGR2GRAY)  \n",
    "    subjects= detect(gray, 1)\n",
    "    \n",
    "    for subject in subjects: \n",
    "        shape = predict(gray, subject)\n",
    "        shape = face_utils.shape_to_np(shape)\n",
    "        (x, y, w, h) = face_utils.rect_to_bb(subject)\n",
    "\n",
    "        if frame[y-50:y+h+20,x-50:x+w+20].size!=0:\n",
    "            roi_color=frame[y-50:y+h+20,x-50:x+w+20]\n",
    "            roi_gray=gray[y-50:y+h+20,x-50:x+w+20]\n",
    "        else :\n",
    "            roi_color=frame[y:y+h,x:x+w]\n",
    "            roi_gray=gray[y:y+h,x:x+w] \n",
    "                \n",
    "        \n",
    "        result=multi_model.predict(cv2.resize(roi_color,(64,64)).reshape(-1,64,64,3))\n",
    "        eresult=np.argmax(emodel.predict(cv2.resize(roi_gray,(48,48)).reshape(-1,48,48,1)))\n",
    "\n",
    "        label = \"{0} {1} {2}\".format(int(np.argmax(result[1],axis=1)[0]+1),\"M\" if np.argmax(result[0],axis=1)[0]==1 else \"F\",emotion_dict[eresult] if eresult in sorted(emotion_dict)  else  ' ')       \n",
    "        \n",
    "        label_name=\"Unkown\"\n",
    "        \n",
    "        try:\n",
    "            unknow_encoding = face_recognition.face_encodings(roi_color)[0]\n",
    "        except:\n",
    "            pass\n",
    "        else:\n",
    "            face_distances = face_recognition.face_distance(Known_face_encodings, unknow_encoding)            \n",
    "            if len(face_distances[np.where(face_distances<0.5)])!=0:\n",
    "                label_name=known_face_names[np.argmin(face_distances)]  \n",
    "\n",
    "            \n",
    "\n",
    "        cv2.rectangle(frame,(x-20,y-50),(x+w+25,y+h+50),(0,0,255),4) \n",
    "        cv2.rectangle(frame,(x-20,y+h),(x+w+25,y+h+50),(0,0,255),-1)\n",
    "        \n",
    "        cv2.putText(frame,label_name, (x-20,y+h+20), cv2.FONT_HERSHEY_PLAIN,1, (0,255,255), 2)\n",
    "        cv2.putText(frame,label, (x-20,y+h+40),cv2.FONT_HERSHEY_PLAIN,1, (0,255,255), 2)\n",
    "\n",
    "    writer.write(frame)    \n",
    "    cv2.imshow('Face recognition with Age Gender Emotion Dectection', frame)\n",
    "        \n",
    "    if cv2.waitKey(1)==13:\n",
    "        break\n",
    "    \n",
    "writer.release()\n",
    "    \n",
    "cap.release()            \n",
    "            \n",
    "cv2.destroyAllWindows()       "
   ]
  },
  {
   "cell_type": "code",
   "execution_count": null,
   "metadata": {},
   "outputs": [],
   "source": []
  }
 ],
 "metadata": {
  "kernelspec": {
   "display_name": "Python 3",
   "language": "python",
   "name": "python3"
  }
 },
 "nbformat": 4,
 "nbformat_minor": 2
}
